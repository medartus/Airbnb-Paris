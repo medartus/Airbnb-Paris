{
 "cells": [
  {
   "cell_type": "code",
   "execution_count": 16,
   "metadata": {},
   "outputs": [],
   "source": [
    "import pandas as pd\n",
    "old = [\n",
    "        [125,9342,'f','2017-01-01','2017-02-08',39,0.0,1125.0,'M21'],\n",
    "        [126,9342,'f','2017-02-19','2017-02-20',9,0.0,1125.0,'L7'],\n",
    "        [125,9342,'f','2017-03-01','2017-04-08',39,0.0,1125.0,'M21'],\n",
    "    ]\n",
    "new = [\n",
    "        [9342,'f','2017-02-01','2017-02-08',8,0.0,1125.0,'L14'], \n",
    "        [9342,'f','2017-02-19','2017-02-20',9,0.0,1125.0,'L7'],\n",
    "        [9342,'f','2017-03-01','2017-04-20',51,0.0,1125.0,'M21'],\n",
    "    ]\n",
    "old_calendar = pd.DataFrame(old,columns=DATABASE_CALENDARS_COLUMNS)\n",
    "new_calendar = pd.DataFrame(new,columns=CALENDARS_COLUMNS)\n",
    "\n",
    "old_calendar[\"state\"] = \"old\"\n",
    "new_calendar[\"state\"] = \"new\"\n",
    "\n",
    "#Converting dates    \n",
    "old_calendar['start_date'] = pd.to_datetime(old_calendar.start_date)\n",
    "old_calendar['end_date'] = pd.to_datetime(old_calendar.end_date)\n",
    "new_calendar['start_date'] = pd.to_datetime(new_calendar.start_date)\n",
    "new_calendar['end_date'] = pd.to_datetime(new_calendar.end_date)\n",
    "\n",
    "#joining both calendars\n",
    "concat_cal = pd.concat([old_calendar,new_calendar],sort=False)\n",
    "concat_cal = concat_cal[DATABASE_CALENDARS_COLUMNS + [\"state\"]]\n",
    "\n",
    "#Sort par annonce et date \n",
    "concat_cal = concat_cal.sort_values([\"listing_id\",\"start_date\"])\n",
    "#On enlève les dates \"old\" et \"new\" qui n'ont pas changé car on ne les utilise pas pour actualiser notre calendrier\n",
    "concat_cal = concat_cal.drop_duplicates(subset=[\"listing_id\",\"start_date\",\"end_date\",\"available\"], keep=False)\n",
    "#Application de la fonction de détection des changements de date pour chaque listing_id. \n",
    "#On retourne une liste que l'on va traiter par la suite\n",
    "concat_cal.cal_key = concat_cal.cal_key.fillna(0)\n",
    "concat_cal.cal_key = concat_cal.cal_key.astype(int)\n",
    "\n"
   ]
  },
  {
   "cell_type": "code",
   "execution_count": 17,
   "metadata": {},
   "outputs": [],
   "source": [
    "CALENDARS_COLUMNS = [\n",
    "    \"listing_id\",\n",
    "    \"available\",\n",
    "    \"start_date\",\n",
    "    \"end_date\",\n",
    "    \"num_day\",\n",
    "    \"minimum_nights\",\n",
    "    \"maximum_nights\",\n",
    "    \"label\"\n",
    "]\n",
    "DATABASE_CALENDARS_COLUMNS = [\n",
    "    \"cal_key\",\n",
    "    \"listing_id\",\n",
    "    \"available\",\n",
    "    \"start_date\",\n",
    "    \"end_date\",\n",
    "    \"num_day\",\n",
    "    \"minimum_nights\",\n",
    "    \"maximum_nights\",\n",
    "    \"label\"\n",
    "]\n"
   ]
  },
  {
   "cell_type": "code",
   "execution_count": 28,
   "metadata": {},
   "outputs": [
    {
     "data": {
      "text/plain": [
       "[125,\n",
       " 9342,\n",
       " 'f',\n",
       " Timestamp('2017-03-01 00:00:00'),\n",
       " Timestamp('2017-04-08 00:00:00'),\n",
       " 39,\n",
       " 0.0,\n",
       " 1125.0,\n",
       " 'M21',\n",
       " 'old']"
      ]
     },
     "execution_count": 28,
     "metadata": {},
     "output_type": "execute_result"
    }
   ],
   "source": [
    "concat_cal[concat_cal.state == \"old\"][-1:].values.tolist()[0]"
   ]
  },
  {
   "cell_type": "code",
   "execution_count": null,
   "metadata": {},
   "outputs": [],
   "source": [
    "\n",
    "concat_cal.filter(lambda x: x['start_date'].dt.year.isin(l1).any() & x['date'].dt.year.isin(l2).any())"
   ]
  },
  {
   "cell_type": "code",
   "execution_count": 73,
   "metadata": {},
   "outputs": [
    {
     "ename": "KeyError",
     "evalue": "'Column not found: False'",
     "output_type": "error",
     "traceback": [
      "\u001b[1;31m---------------------------------------------------------------------------\u001b[0m",
      "\u001b[1;31mKeyError\u001b[0m                                  Traceback (most recent call last)",
      "\u001b[1;32m<ipython-input-73-869e197df693>\u001b[0m in \u001b[0;36m<module>\u001b[1;34m\u001b[0m\n\u001b[0;32m      5\u001b[0m \u001b[0midx\u001b[0m \u001b[1;33m=\u001b[0m \u001b[0mtest\u001b[0m\u001b[1;33m[\u001b[0m\u001b[0mtest\u001b[0m\u001b[1;33m.\u001b[0m\u001b[0mstate\u001b[0m \u001b[1;33m==\u001b[0m \u001b[1;34m\"old\"\u001b[0m\u001b[1;33m]\u001b[0m\u001b[1;33m[\u001b[0m\u001b[1;33m-\u001b[0m\u001b[1;36m1\u001b[0m\u001b[1;33m:\u001b[0m\u001b[1;33m]\u001b[0m\u001b[1;33m.\u001b[0m\u001b[0mindex\u001b[0m\u001b[1;33m\u001b[0m\u001b[0m\n\u001b[0;32m      6\u001b[0m \u001b[0mf\u001b[0m \u001b[1;33m=\u001b[0m \u001b[0mtest\u001b[0m\u001b[1;33m.\u001b[0m\u001b[0mgroupby\u001b[0m\u001b[1;33m(\u001b[0m\u001b[1;34m'available'\u001b[0m\u001b[1;33m)\u001b[0m\u001b[1;33m\u001b[0m\u001b[0m\n\u001b[1;32m----> 7\u001b[1;33m \u001b[0mf\u001b[0m\u001b[1;33m[\u001b[0m\u001b[0mf\u001b[0m\u001b[1;33m.\u001b[0m\u001b[0mavailable\u001b[0m\u001b[1;33m==\u001b[0m\u001b[1;34m\"f\"\u001b[0m\u001b[1;33m]\u001b[0m\u001b[1;33m\u001b[0m\u001b[0m\n\u001b[0m",
      "\u001b[1;32mc:\\users\\33652\\appdata\\local\\programs\\python\\python37\\lib\\site-packages\\pandas\\core\\groupby\\generic.py\u001b[0m in \u001b[0;36m__getitem__\u001b[1;34m(self, key)\u001b[0m\n\u001b[0;32m   1608\u001b[0m                 \u001b[0mstacklevel\u001b[0m\u001b[1;33m=\u001b[0m\u001b[1;36m2\u001b[0m\u001b[1;33m,\u001b[0m\u001b[1;33m\u001b[0m\u001b[0m\n\u001b[0;32m   1609\u001b[0m             )\n\u001b[1;32m-> 1610\u001b[1;33m         \u001b[1;32mreturn\u001b[0m \u001b[0msuper\u001b[0m\u001b[1;33m(\u001b[0m\u001b[1;33m)\u001b[0m\u001b[1;33m.\u001b[0m\u001b[0m__getitem__\u001b[0m\u001b[1;33m(\u001b[0m\u001b[0mkey\u001b[0m\u001b[1;33m)\u001b[0m\u001b[1;33m\u001b[0m\u001b[0m\n\u001b[0m\u001b[0;32m   1611\u001b[0m \u001b[1;33m\u001b[0m\u001b[0m\n\u001b[0;32m   1612\u001b[0m     \u001b[1;32mdef\u001b[0m \u001b[0m_gotitem\u001b[0m\u001b[1;33m(\u001b[0m\u001b[0mself\u001b[0m\u001b[1;33m,\u001b[0m \u001b[0mkey\u001b[0m\u001b[1;33m,\u001b[0m \u001b[0mndim\u001b[0m\u001b[1;33m:\u001b[0m \u001b[0mint\u001b[0m\u001b[1;33m,\u001b[0m \u001b[0msubset\u001b[0m\u001b[1;33m=\u001b[0m\u001b[1;32mNone\u001b[0m\u001b[1;33m)\u001b[0m\u001b[1;33m:\u001b[0m\u001b[1;33m\u001b[0m\u001b[0m\n",
      "\u001b[1;32mc:\\users\\33652\\appdata\\local\\programs\\python\\python37\\lib\\site-packages\\pandas\\core\\base.py\u001b[0m in \u001b[0;36m__getitem__\u001b[1;34m(self, key)\u001b[0m\n\u001b[0;32m    226\u001b[0m         \u001b[1;32melse\u001b[0m\u001b[1;33m:\u001b[0m\u001b[1;33m\u001b[0m\u001b[0m\n\u001b[0;32m    227\u001b[0m             \u001b[1;32mif\u001b[0m \u001b[0mkey\u001b[0m \u001b[1;32mnot\u001b[0m \u001b[1;32min\u001b[0m \u001b[0mself\u001b[0m\u001b[1;33m.\u001b[0m\u001b[0mobj\u001b[0m\u001b[1;33m:\u001b[0m\u001b[1;33m\u001b[0m\u001b[0m\n\u001b[1;32m--> 228\u001b[1;33m                 \u001b[1;32mraise\u001b[0m \u001b[0mKeyError\u001b[0m\u001b[1;33m(\u001b[0m\u001b[1;34mf\"Column not found: {key}\"\u001b[0m\u001b[1;33m)\u001b[0m\u001b[1;33m\u001b[0m\u001b[0m\n\u001b[0m\u001b[0;32m    229\u001b[0m             \u001b[1;32mreturn\u001b[0m \u001b[0mself\u001b[0m\u001b[1;33m.\u001b[0m\u001b[0m_gotitem\u001b[0m\u001b[1;33m(\u001b[0m\u001b[0mkey\u001b[0m\u001b[1;33m,\u001b[0m \u001b[0mndim\u001b[0m\u001b[1;33m=\u001b[0m\u001b[1;36m1\u001b[0m\u001b[1;33m)\u001b[0m\u001b[1;33m\u001b[0m\u001b[0m\n\u001b[0;32m    230\u001b[0m \u001b[1;33m\u001b[0m\u001b[0m\n",
      "\u001b[1;31mKeyError\u001b[0m: 'Column not found: False'"
     ]
    }
   ],
   "source": [
    "tes = concat_cal\n",
    "idx = tes[tes.state == \"old\"][-1:].index\n",
    "test = tes.reset_index()\n",
    "test = test.drop(columns ='index')\n",
    "idx = test[test.state == \"old\"][-1:].index\n",
    "f = test.groupby('available')\n",
    "f[f.available==\"f\"]"
   ]
  },
  {
   "cell_type": "code",
   "execution_count": null,
   "metadata": {},
   "outputs": [],
   "source": []
  }
 ],
 "metadata": {
  "kernelspec": {
   "display_name": "Python 3",
   "language": "python",
   "name": "python3"
  },
  "language_info": {
   "codemirror_mode": {
    "name": "ipython",
    "version": 3
   },
   "file_extension": ".py",
   "mimetype": "text/x-python",
   "name": "python",
   "nbconvert_exporter": "python",
   "pygments_lexer": "ipython3",
   "version": "3.7.0"
  }
 },
 "nbformat": 4,
 "nbformat_minor": 4
}
